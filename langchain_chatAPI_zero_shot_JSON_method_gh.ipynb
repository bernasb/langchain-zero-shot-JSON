{
 "cells": [
  {
   "cell_type": "markdown",
   "id": "7f748b47",
   "metadata": {},
   "source": [
    "##### install libaries w/ muted output"
   ]
  },
  {
   "cell_type": "code",
   "execution_count": 1,
   "id": "371107e8-397b-4c42-b2f6-d4825f375d5e",
   "metadata": {},
   "outputs": [
    {
     "name": "stdout",
     "output_type": "stream",
     "text": [
      "installed openai\n",
      "installed langchain\n"
     ]
    }
   ],
   "source": [
    "\n",
    "import subprocess\n",
    "\n",
    "def pip_install(package_name):\n",
    "    command = [\"pip\", \"install\", \"-U\", package_name]\n",
    "    with subprocess.Popen(command, stdout=subprocess.PIPE, stderr=subprocess.PIPE) as process:\n",
    "        process.wait()\n",
    "        if process.returncode == 0:\n",
    "            print(\"installed \" + package_name)\n",
    "        else: \n",
    "            raise Exception(\"Failed to install package: {}\".format(package_name))\n",
    " \n",
    "packages_to_install = [\"openai\", \"langchain\"]\n",
    "for package_name in packages_to_install:\n",
    "    pip_install(package_name)"
   ]
  },
  {
   "cell_type": "markdown",
   "id": "15fb02a9",
   "metadata": {},
   "source": [
    "##### versioning audit"
   ]
  },
  {
   "cell_type": "code",
   "execution_count": 2,
   "id": "f23510db-277e-4c18-8c1e-faa01c86d77f",
   "metadata": {},
   "outputs": [
    {
     "name": "stdout",
     "output_type": "stream",
     "text": [
      "Python ver: 3.11.5 (main, Aug 28 2023, 00:00:00) [GCC 13.2.1 20230728 (Red Hat 13.2.1-1)]\n",
      "openai ver: 0.28.1\n",
      "langchain ver: 0.0.314\n"
     ]
    }
   ],
   "source": [
    "import sys\n",
    "print(\"Python ver:\", sys.version)\n",
    "\n",
    "import openai\n",
    "print(\"openai ver:\", openai.__version__)\n",
    "\n",
    "import langchain\n",
    "print(\"langchain ver:\", langchain.__version__)\n",
    "\n",
    "import json\n",
    "import os"
   ]
  },
  {
   "cell_type": "markdown",
   "id": "91af1658",
   "metadata": {},
   "source": [
    "##### import API key"
   ]
  },
  {
   "cell_type": "code",
   "execution_count": 3,
   "id": "2a976247-5d6a-41d9-b283-a135e66ee550",
   "metadata": {},
   "outputs": [],
   "source": [
    "def read_openai_api_key():\n",
    "    # file folder location\n",
    "    file_folder = \"/location/of/your/file/folder\"\n",
    "\n",
    "    # API file name\n",
    "    file_name = \"OPENAI_API_KEY.json\"\n",
    "\n",
    "    # file path\n",
    "    file_path = os.path.join(file_folder, file_name)\n",
    "\n",
    "    # Check if API file exists\n",
    "    if not os.path.exists(file_path):\n",
    "        raise FileNotFoundError(f\"File not found: {file_path}\")\n",
    "\n",
    "    # Check if API file is readable\n",
    "    if not os.access(file_path, os.R_OK):\n",
    "        raise PermissionError(f\"Permission denied: {file_path}\")\n",
    "\n",
    "    # Open API file & read key\n",
    "    with open(file_path, \"r\") as f:\n",
    "        api_key = json.load(f)[\"OPENAI_API_KEY\"]\n",
    "      \n",
    "    return api_key\n",
    "\n",
    "openai_api_key = read_openai_api_key()"
   ]
  },
  {
   "cell_type": "markdown",
   "id": "6e12ec07",
   "metadata": {},
   "source": [
    "##### import LC functions"
   ]
  },
  {
   "cell_type": "code",
   "execution_count": 21,
   "id": "6b7cdf02-9fe6-49da-ac3a-be109069b170",
   "metadata": {},
   "outputs": [],
   "source": [
    "from langchain.chat_models import ChatOpenAI\n",
    "from langchain.prompts import load_prompt"
   ]
  },
  {
   "cell_type": "markdown",
   "id": "0364e397",
   "metadata": {},
   "source": [
    "##### read Langchain few shot JSON template and JSON inputs"
   ]
  },
  {
   "cell_type": "code",
   "execution_count": 22,
   "id": "8c2accf8-0528-480f-bf91-5ceee31d8a22",
   "metadata": {},
   "outputs": [],
   "source": [
    "title_prompt = load_prompt(\"title_zero_shot_prompt.json\")\n",
    "\n",
    "with open('zero_shot_prompt_input.json', 'r') as f:\n",
    "    input_data = json.load(f)"
   ]
  },
  {
   "cell_type": "markdown",
   "id": "08aae280",
   "metadata": {},
   "source": [
    "##### call chat model & chain"
   ]
  },
  {
   "cell_type": "code",
   "execution_count": 23,
   "id": "5957dd16-ad94-4dc8-b710-8f9b9e4c76cd",
   "metadata": {},
   "outputs": [],
   "source": [
    "# setup LC chat model\n",
    "chat = langchain.chat_models.openai.ChatOpenAI(  \n",
    "    openai_api_key=openai_api_key,\n",
    "    model=\"gpt-3.5-turbo\",\n",
    "    max_tokens=50,\n",
    "    temperature=0.05\n",
    ")\n",
    "\n",
    "chain = title_prompt | chat\n",
    "\n",
    "result = chain.invoke(input_data)"
   ]
  },
  {
   "cell_type": "markdown",
   "id": "1e0598f1",
   "metadata": {},
   "source": [
    "##### convert chat result to JSON & save file"
   ]
  },
  {
   "cell_type": "code",
   "execution_count": 24,
   "id": "af7a7044",
   "metadata": {},
   "outputs": [
    {
     "name": "stdout",
     "output_type": "stream",
     "text": [
      "{\"title\": \"Milwaukee Road Vintage Logo Tee | Orange\"}\n"
     ]
    }
   ],
   "source": [
    "# convert\n",
    "json_conv_input = result.content\n",
    "json_conv_output = json.dumps({\"title\": json_conv_input})\n",
    "print(json_conv_output)\n",
    "\n",
    "# write to file\n",
    "with open('zero_shot_prompt_output.json', 'w') as f:\n",
    "    json.dump(json.loads(json_conv_output), f)"
   ]
  }
 ],
 "metadata": {
  "kernelspec": {
   "display_name": "Python 3 (ipykernel)",
   "language": "python",
   "name": "python3"
  },
  "language_info": {
   "codemirror_mode": {
    "name": "ipython",
    "version": 3
   },
   "file_extension": ".py",
   "mimetype": "text/x-python",
   "name": "python",
   "nbconvert_exporter": "python",
   "pygments_lexer": "ipython3",
   "version": "3.11.5"
  }
 },
 "nbformat": 4,
 "nbformat_minor": 5
}
